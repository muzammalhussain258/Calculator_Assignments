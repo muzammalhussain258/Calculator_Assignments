{
 "cells": [
  {
   "cell_type": "markdown",
   "id": "1f6befee",
   "metadata": {},
   "source": [
    "# Simple Python Calculator\n",
    " "
   ]
  },
  {
   "cell_type": "markdown",
   "id": "6cd39cbd",
   "metadata": {},
   "source": [
    "### Vbjective\n",
    "- The objective of this assignment is to create a simple calculator using Python.\n",
    "- It should perform the following basic arithmetic operations: Addition ,Subtraction ,Multiplication ,Division\n",
    "\n"
   ]
  },
  {
   "cell_type": "code",
   "execution_count": 4,
   "id": "c1528d50",
   "metadata": {},
   "outputs": [
    {
     "name": "stdout",
     "output_type": "stream",
     "text": [
      "Addition: 30\n",
      "Subtraction: 10\n",
      "Division: 2.0\n",
      "Multiplication: 200\n"
     ]
    }
   ],
   "source": [
    "# Step 1: Creating two number variables\n",
    "\n",
    "x = 20  #num1 variable set kiya, isme 20 rakha\n",
    "y = 10  #num2 variable set kiya, isme 10 rakha\n",
    "\n",
    "\n",
    "# Step 2: Performing Arithmetic Operations (Addition, Subtraction, Multiplication, Division)\n",
    "\n",
    "sum = x + y  # sum variable banaya, num1 aur num2 ko add kiya \n",
    "subtract = x - y  # subtract variable banaya, num1 aur num2 ko add kiya\n",
    "divide = x / y  # divide variable banaya, num1 aur num2 ko add kiya\n",
    "multiply = x * y  # multiply variable banaya, num1 aur num2 ko add kiya\n",
    "\n",
    "\n",
    "# Step 3: Printing all results\n",
    "\n",
    "print(\"Addition:\",sum)  # sum ka result print kiya\n",
    "print(\"Subtraction:\", subtract)  # subtract ka result print kiya\n",
    "print(\"Division:\",divide)  # divide ka result print kiya\n",
    "print(\"Multiplication:\",multiply)  # multiply ka result print kiya"
   ]
  },
  {
   "cell_type": "code",
   "execution_count": null,
   "id": "a88c68ca",
   "metadata": {},
   "outputs": [],
   "source": []
  }
 ],
 "metadata": {
  "kernelspec": {
   "display_name": "Python 3",
   "language": "python",
   "name": "python3"
  },
  "language_info": {
   "codemirror_mode": {
    "name": "ipython",
    "version": 3
   },
   "file_extension": ".py",
   "mimetype": "text/x-python",
   "name": "python",
   "nbconvert_exporter": "python",
   "pygments_lexer": "ipython3",
   "version": "3.10.11"
  }
 },
 "nbformat": 4,
 "nbformat_minor": 5
}
