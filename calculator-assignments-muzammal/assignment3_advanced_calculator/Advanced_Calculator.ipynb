{
 "cells": [
  {
   "cell_type": "markdown",
   "id": "6eac84a4",
   "metadata": {},
   "source": [
    "# Advanced Python Calculator\n",
    "- This program allows the user to input two numbers and choose an arithmetic operator (+, -, *, /, **, //, %).\n",
    "- It performs the selected operation and handles errors like division by zero or invalid operators.\n",
    "- The result is displayed in a clear, formatted output for a better user experience.\n",
    "\n"
   ]
  },
  {
   "cell_type": "code",
   "execution_count": null,
   "id": "9c37e52f",
   "metadata": {},
   "outputs": [
    {
     "name": "stdout",
     "output_type": "stream",
     "text": [
      "The result of 23.0 / 3.0 is: 7.666666666666667\n"
     ]
    }
   ],
   "source": [
    "# Advanced Floating-Point Calculator with Operator Selection\n",
    "\n",
    "# Step 1: Take two floating-point numbers as input from the user\n",
    "num1 = float(input(\"Enter first number: \"))\n",
    "num2 = float(input(\"Enter second number: \"))\n",
    "\n",
    "# Step 2: Ask the user to choose an arithmetic operator\n",
    "operator = input(\"Enter operator (+, -, *, /, **, //, %): \")\n",
    "\n",
    "# Step 3: Perform the selected arithmetic operation using conditional statements\n",
    "if operator == \"+\":\n",
    "    result = num1 + num2\n",
    "elif operator == \"-\":\n",
    "    result = num1 - num2\n",
    "elif operator == \"*\":\n",
    "    result = num1 * num2\n",
    "elif operator == \"/\":\n",
    "    # Check for division by zero\n",
    "    if num2 != 0:\n",
    "        result = num1 / num2\n",
    "    else:\n",
    "        result = \"Error! Division by zero.\" \n",
    "elif operator == \"**\":\n",
    "    result = num1 ** num2\n",
    "elif operator == \"//\":\n",
    "    # Floor division with zero check\n",
    "    if num2 != 0:\n",
    "        result = num1 // num2\n",
    "    else:\n",
    "        result = \"Error! Division by zero.\"\n",
    "elif operator == \"%\":\n",
    "    # Modulus with zero check\n",
    "    if num2 != 0:\n",
    "        result = num1 % num2\n",
    "    else:\n",
    "        result = \"Error! Division by zero.\"\n",
    "else:\n",
    "    result = \"Error! Invalid operator.\"\n",
    "\n",
    "# Step 4: Display the final result or error message\n",
    "print(f\"The result of {num1} {operator} {num2} is: {result}\")\n"
   ]
  },
  {
   "cell_type": "code",
   "execution_count": null,
   "id": "524cc3b3",
   "metadata": {},
   "outputs": [],
   "source": []
  }
 ],
 "metadata": {
  "kernelspec": {
   "display_name": "Python 3",
   "language": "python",
   "name": "python3"
  },
  "language_info": {
   "codemirror_mode": {
    "name": "ipython",
    "version": 3
   },
   "file_extension": ".py",
   "mimetype": "text/x-python",
   "name": "python",
   "nbconvert_exporter": "python",
   "pygments_lexer": "ipython3",
   "version": "3.10.11"
  }
 },
 "nbformat": 4,
 "nbformat_minor": 5
}
