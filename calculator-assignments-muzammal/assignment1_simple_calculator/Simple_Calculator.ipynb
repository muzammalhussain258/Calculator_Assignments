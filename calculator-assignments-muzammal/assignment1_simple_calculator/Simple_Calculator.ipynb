{
 "cells": [
  {
   "cell_type": "markdown",
   "id": "1f6befee",
   "metadata": {},
   "source": [
    "# Simple Python Calculator\n",
    " "
   ]
  },
  {
   "cell_type": "markdown",
   "id": "6cd39cbd",
   "metadata": {},
   "source": [
    "### Vbjective\n",
    "- The objective of this assignment is to create a simple calculator using Python.\n",
    "- It should perform the following basic arithmetic operations: Addition ,Subtraction ,Multiplication ,Division\n",
    "\n"
   ]
  },
  {
   "cell_type": "code",
   "execution_count": 1,
   "id": "c1528d50",
   "metadata": {},
   "outputs": [
    {
     "name": "stdout",
     "output_type": "stream",
     "text": [
      "Addition: 30\n",
      "Subtraction: 10\n",
      "Division: 2.0\n",
      "Multiplication: 200\n"
     ]
    }
   ],
   "source": [
    "# Step 1: Creating two number variables\n",
    "\n",
    "x = 20  # Set num1 variable with value 20\n",
    "y = 10  # Set num2 variable with value 10\n",
    "\n",
    "\n",
    "# Step 2: Performing Arithmetic Operations (Addition, Subtraction, Multiplication, Division)\n",
    "\n",
    "sum = x + y  # Created sum variable, added num1 and num2\n",
    "subtract = x - y  # Created subtract variable, subtracted num2 from num1\n",
    "divide = x / y  # Created divide variable, divided num1 by num2\n",
    "multiply = x * y  # Created multiply variable, multiplied num1 and num2\n",
    "\n",
    "\n",
    "# Step 3: Printing all results\n",
    "\n",
    "print(\"Addition:\",sum)  # Printed the sum result\n",
    "print(\"Subtraction:\", subtract)  # Printed the subtraction result\n",
    "print(\"Division:\",divide)  # Printed the division result\n",
    "print(\"Multiplication:\",multiply)  # Printed the multiplication result"
   ]
  },
  {
   "cell_type": "code",
   "execution_count": null,
   "id": "a88c68ca",
   "metadata": {},
   "outputs": [],
   "source": []
  }
 ],
 "metadata": {
  "kernelspec": {
   "display_name": "Python 3",
   "language": "python",
   "name": "python3"
  },
  "language_info": {
   "codemirror_mode": {
    "name": "ipython",
    "version": 3
   },
   "file_extension": ".py",
   "mimetype": "text/x-python",
   "name": "python",
   "nbconvert_exporter": "python",
   "pygments_lexer": "ipython3",
   "version": "3.10.11"
  }
 },
 "nbformat": 4,
 "nbformat_minor": 5
}
