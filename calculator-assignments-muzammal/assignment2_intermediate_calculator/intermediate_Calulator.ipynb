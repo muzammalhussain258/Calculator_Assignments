{
 "cells": [
  {
   "cell_type": "markdown",
   "id": "e0d48d7f",
   "metadata": {},
   "source": [
    "# Intermediate Python Calculator\n",
    "- This program takes two numeric inputs from the user using the input() function.\n",
    "- The values are converted to float and used to perform addition, subtraction, multiplication, and division.\n",
    "- All results are displayed with clear, formatted output for a smooth user experience.\n",
    "\n"
   ]
  },
  {
   "cell_type": "code",
   "execution_count": 1,
   "id": "49d89d88",
   "metadata": {},
   "outputs": [
    {
     "name": "stdout",
     "output_type": "stream",
     "text": [
      "\n",
      "*** Result of Arithmetic Operations ***\n",
      "\n",
      "Addition:  15.0 + 3.0 = 18.0\n",
      "Subtraction:  15.0 - 3.0 = 12.0\n",
      "Multiplication:  15.0 * 3.0 = 45.0\n",
      "Division:  15.0 / 3.0 = 5.0\n"
     ]
    }
   ],
   "source": [
    "# Step 1: Accept user input and convert it to float type for arithmetic operations\n",
    "num1 = float(input(\"Enter your first number: \"))\n",
    "num2 = float(input(\"Enter your second number: \"))\n",
    "\n",
    "# Step 2: Perform basic arithmetic operations\n",
    "sum = num1 + num2\n",
    "subtract = num1 - num2\n",
    "multiply = num1 * num2\n",
    "divide = num1 / num2\n",
    "\n",
    "# Step 3: Display the results of the arithmetic operations\n",
    "print(\"\\n*** Result of Arithmetic Operations ***\")\n",
    "print(\"\\nAddition: \", num1, \"+\", num2, \"=\", sum)\n",
    "print(\"Subtraction: \", num1, \"-\", num2, \"=\", subtract)   \n",
    "print(\"Multiplication: \", num1, \"*\", num2, \"=\", multiply)\n",
    "print(\"Division: \", num1, \"/\", num2, \"=\", divide)\n"
   ]
  },
  {
   "cell_type": "code",
   "execution_count": null,
   "id": "fd840107",
   "metadata": {},
   "outputs": [],
   "source": []
  }
 ],
 "metadata": {
  "kernelspec": {
   "display_name": "Python 3",
   "language": "python",
   "name": "python3"
  },
  "language_info": {
   "codemirror_mode": {
    "name": "ipython",
    "version": 3
   },
   "file_extension": ".py",
   "mimetype": "text/x-python",
   "name": "python",
   "nbconvert_exporter": "python",
   "pygments_lexer": "ipython3",
   "version": "3.10.11"
  }
 },
 "nbformat": 4,
 "nbformat_minor": 5
}
